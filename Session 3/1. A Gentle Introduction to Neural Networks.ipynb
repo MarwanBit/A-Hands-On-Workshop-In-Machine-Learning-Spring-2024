{
 "cells": [
  {
   "cell_type": "markdown",
   "metadata": {},
   "source": [
    "## A Hands-on Workshop series in Machine Learning\n",
    "### A Gentle Introduction to Neural Networks\n",
    "#### Instructor: Dr. Aashita Kesarwani\n",
    "\n",
    "What is Deep Learning?\n",
    "\n",
    "Why the sudden growth in the applications of Deep Learning?   \n",
    "1. Data availability\n",
    "2. Computing power \n",
    "\n",
    "<center>\n",
    "<img src=\"https://cdn-images-1.medium.com/max/1600/0*GTzatEUd4cICPVub.\" width=\"600\" />\n",
    "</center>\n",
    "\n",
    "Data may consists of pairs (input, output). \n",
    "\n",
    "| Input  | Output |\n",
    "| ------ | ------ |\n",
    "| Photos | Label: cats, dogs, birds, etc. |\n",
    "| Emails | Label: Spam or not |\n",
    "| House characteristics | House prices |\n",
    "| A sentence in English | Its translation in Spanish |\n",
    "\n",
    "The first step is to convert the real world entity, such as an email, image or other data, into feature vectors.\n",
    "\n",
    "Let us assume for the rest of the session that our training data is already pre-processed and converted into feature vectors. For $n$ features, a feature vector is nothing but a point in the $n$-dimensional space viz. $x = (x_1, x_2, \\dots, x_n)$.\n",
    "\n",
    "For supervised machine learning algorithm, the goal is to best estimate the mapping function $f$ for the output variable $y$ given the input data $X$. \n",
    "\n",
    "There are two major tasks for supervised machine learning: \n",
    "- Classification\n",
    "- Regression\n",
    "\n",
    "We studied one binary classification algorithm - logistic classifer in the previous session, for which the output variable $y$ is one of the classes - 0 or 1 for the input data $X$. Let us start with our first regression algorithm in today's session. \n",
    "\n",
    "\n",
    "#### Regression:   \n",
    "- Fitting a curve to determine the impact of feature variables on the target variable.\n",
    "\n",
    "<center>\n",
    "<img src=\"https://upload.wikimedia.org/wikipedia/commons/8/8a/Gaussian_kernel_regression.png\" width=\"300\" />\n",
    "<p style=\"text-align: center;\"> Regression curve </p> \n",
    "</center>"
   ]
  },
  {
   "cell_type": "markdown",
   "metadata": {},
   "source": [
    "Linear Regression: Fitting a ***line*** to determine the impact of feature variables on the target variable.\n",
    "\n",
    "<center>\n",
    "<img align=\"center\" src=\"https://github.com/AashitaK/datasets/blob/main/images/linregline.png?raw=True\" width=400 />\n",
    "</center>\n",
    "    \n",
    "Note that $X$ consists of independent variables, whereas $y$ target ouput and we want to approximate a function $f: X \\to y$\n",
    "\n",
    "For example, let $x$ be the square feet area of the house and $y$ be the selling price of the house.\n",
    "\n",
    "<center>\n",
    "<img align=\"center\" src=\"https://github.com/AashitaK/datasets/blob/main/images/linreglines.png?raw=True\" width=400 />\n",
    "</center>"
   ]
  },
  {
   "cell_type": "markdown",
   "metadata": {},
   "source": [
    "* Which one of the above two lines is a better fit? Red or Green?\n",
    "* Can there be an even better fit? How do we find out?\n",
    "* What precisely are we looking for in the line that is the best fit?\n",
    "\n",
    "Answer: We are trying to minimize the error in predictions given by the line vs the actual target value.\n",
    "\n",
    "<center>\n",
    "<img src=\"https://upload.wikimedia.org/wikipedia/commons/e/ed/Residuals_for_Linear_Regression_Fit.png\" width=\"400\" />\n",
    "</center>\n",
    "\n",
    "The simple linear regression (linear regression with one variable) is formulated as $ y_{pred} = w * x + b $.\n",
    "\n",
    "Finding the best fit line simply means ***finding the optimal values for $w$ and $b$***. For that, we need to quantify the cost function (also known as the error function or the loss function) that we can minimize. \n",
    "\n",
    "* How do we formulate the cost function?\n",
    "* Should we sum up the errors? If not, why?\n",
    "\n",
    "The simple linear regression model uses the mean-squared error (MSE) as the cost function. We square the errors and then take their average.\n",
    "\n",
    "$$ J = \\frac{1}{2 n} \\sum_{i=1}^n (y^{(i)} - y_{pred}^{(i)})^2 $$\n",
    "\n",
    "Alternatively, we can use Mean-absolute Error (MSE) as the cost function for regression:\n",
    "$$ J = \\frac{1}{n} \\sum_{i=1}^n |y^{(i)} - y_{pred}^{(i)}| $$\n",
    "\n",
    "\n",
    "The cost function is inherently a function of the slope and intercept. This is evident once we substitute $y_{pred}$ with the regression line.\n",
    "\n",
    "$$ J(w, b) = \\frac{1}{2 n} \\sum_{i=1}^n (y^{(i)} - (w * x^{(i)} + b) )^2 $$\n",
    "\n",
    "The [gradient descent algorithm](https://machinelearningmastery.com/gradient-descent-for-machine-learning/), introduced in the last session, can then be used to minimize the above cost function by updating the weights iteratively. \n",
    "\n",
    "Revision: How does the gradient descent algorithm work?\n",
    "* We start with some weights initially\n",
    "* Let the model make prediction $y_{pred}$ for a training example $x$\n",
    "* Compute the cost using the prediction $y_{pred}$ and the actual target $y$ \n",
    "* Compute the gradient of the cost and use it to update the weights\n",
    "* Repeat the above steps for another training example\n",
    "\n",
    "The weights are updated in the direction of the steepest descent of the cost function in each iteration. \n",
    "\n",
    "$$ w := w - \\alpha \\nabla J $$\n",
    "\n",
    "where $\\nabla J$ is the gradient of the cost function $J$ and $\\alpha$ is the learning rate that determines the size of steps that we take descending on the path of gradient.\n",
    "\n",
    "\n",
    "<center>\n",
    "<img align=\"center\"  src=\"https://github.com/AashitaK/datasets/blob/main/images/ball.png?raw=True\" width=\"450\" />\n",
    "<p style=\"text-align: center;\"> Minimizing the cost function using gradient descent </p> \n",
    "</center>\n",
    "\n",
    "To derive the formula for updating weights using gradient descent, we first take the partial derivative, \n",
    "$$ \\frac{\\partial J}{\\partial w} = - \\frac{1}{n} \\sum_{i=1}^n (y^{(i)} - y_{pred}^{(i)})   \\ x^{(i)} $$\n",
    "And substitute it in the above equation to get\n",
    "$$ w := w + \\alpha \\frac{1}{n} \\sum_{i=1}^n (y^{(i)} - y_{pred}^{(i)})   \\ x^{(i)} $$\n",
    "Similarly,\n",
    "$$ b := b + \\alpha \\frac{1}{n} \\sum_{i=1}^n (y^{(i)} - y_{pred}^{(i)})   $$\n",
    "\n",
    "To summarize, *we defined a cost function to quantify the error in predicting outputs and then we update the weights so as to minimize the cost in the fastest way with the help of gradient descent algorithm*."
   ]
  },
  {
   "cell_type": "markdown",
   "metadata": {},
   "source": [
    "In the other notebook titled *Linear regression implementation using gradient descent*, the above gradient descent algorithm is implemented so that the regression line is being updated iteratively and the cost is declining with every iteration.\n",
    "\n",
    "<center>\n",
    "<img align=\"center\" src=\"https://github.com/AashitaK/datasets/blob/main/images/linregfit.png?raw=True\" width=700 />\n",
    "<img align=\"center\" src=\"https://github.com/AashitaK/datasets/blob/main/images/linregcost.png?raw=True\" width=500 />\n",
    "</center>\n",
    "\n",
    "**Exercise**: If you were to implement the above algorithm, what major functions would you need to implement? What would the code look like for the iterative process of weight updates?"
   ]
  },
  {
   "cell_type": "markdown",
   "metadata": {},
   "source": [
    "You can use [scikit-learn](https://scikit-learn.org/stable/) implementation of the linear regression as demonstrated below while working on problems. The linear regression is often good as a baseline model, and this implementation is fast and require very little code. \n",
    "\n",
    "First we import the function [LinearRegression](https://scikit-learn.org/stable/modules/generated/sklearn.linear_model.LinearRegression.html) and then initialize the regressor."
   ]
  },
  {
   "cell_type": "code",
   "execution_count": 2,
   "metadata": {},
   "outputs": [
    {
     "name": "stderr",
     "output_type": "stream",
     "text": [
      "c:\\Users\\Marwa\\anaconda3\\lib\\site-packages\\scipy\\__init__.py:155: UserWarning: A NumPy version >=1.18.5 and <1.25.0 is required for this version of SciPy (detected version 1.26.4\n",
      "  warnings.warn(f\"A NumPy version >={np_minversion} and <{np_maxversion}\"\n"
     ]
    }
   ],
   "source": [
    "import numpy as np\n",
    "import pandas as pd\n",
    "import matplotlib.pyplot as plt\n",
    "%matplotlib inline\n",
    "df = pd.read_csv('sample_boston.csv')\n",
    "X = df['RM'].values.reshape(-1, 1)\n",
    "y = df['MEDV'].values\n",
    "\n",
    "from sklearn.linear_model import LinearRegression\n",
    "lin_reg = LinearRegression()"
   ]
  },
  {
   "cell_type": "markdown",
   "metadata": {},
   "source": [
    "Then we train the regressor using the [`fit()`](https://scikit-learn.org/stable/modules/generated/sklearn.linear_model.LinearRegression.html#sklearn.linear_model.LinearRegression.fit) method on the data points."
   ]
  },
  {
   "cell_type": "code",
   "execution_count": 3,
   "metadata": {},
   "outputs": [
    {
     "data": {
      "text/plain": [
       "LinearRegression()"
      ]
     },
     "execution_count": 3,
     "metadata": {},
     "output_type": "execute_result"
    }
   ],
   "source": [
    "lin_reg.fit(X, y)"
   ]
  },
  {
   "cell_type": "markdown",
   "metadata": {},
   "source": [
    "Next, we plot the regression line using the functions written in the python file `linreg.py`. "
   ]
  },
  {
   "cell_type": "code",
   "execution_count": 4,
   "metadata": {},
   "outputs": [
    {
     "name": "stdout",
     "output_type": "stream",
     "text": [
      "Weight: 9.559377910614938\n",
      "Intercept -38.406936727358584\n",
      "Cost: 2266.746832851884\n"
     ]
    }
   ],
   "source": [
    "def cost(X, y, w, b):\n",
    "    n = len(y)\n",
    "    J = 1/(2*n) * np.sum((y - (w*X + b))**2)\n",
    "    return J\n",
    "\n",
    "w = lin_reg.coef_[0]\n",
    "b = lin_reg.intercept_\n",
    "print(\"Weight:\", w)\n",
    "print(\"Intercept\", b)\n",
    "print(\"Cost:\", cost(X, y, w, b))"
   ]
  },
  {
   "cell_type": "code",
   "execution_count": 5,
   "metadata": {},
   "outputs": [
    {
     "data": {
      "image/png": "[encoded data removed]",
      "text/plain": [
       "<Figure size 640x480 with 1 Axes>"
      ]
     },
     "metadata": {},
     "output_type": "display_data"
    }
   ],
   "source": [
    "# Plot the points\n",
    "plt.scatter(X, y)\n",
    "# Plot the regression line\n",
    "X_values = np.linspace(X.min(), X.max(), 100)\n",
    "y_prediction = w*X_values + b\n",
    "plt.plot(X_values, y_prediction);\n",
    "plt.xlabel(\"Average number of rooms\");\n",
    "plt.ylabel(\"Median value of homes in $1000’s\");\n",
    "plt.title(\"Fitting a linear regression model\");"
   ]
  },
  {
   "cell_type": "markdown",
   "metadata": {},
   "source": [
    "#### Multivariate Linear Regression\n",
    "The same formulation and understanding can be extended to linear regression with more than one variable, say $x_1, x_2, \\dots, x_n$, with the equation \n",
    "\n",
    "$$ y_{pred} = b + w_1 * x_1 + w_2 * x_2 + \\cdots + w_n * x_n$$ \n",
    "\n",
    "And we estimate the weights $w_1, w_2, \\dots, w_n$ corresponding to each variable as well as the intercept.\n",
    "\n",
    "&nbsp;\n",
    "\n",
    "&nbsp;\n",
    "\n",
    "\n",
    "Linear regression is the simplest example of a neural network with no hidden layers."
   ]
  },
  {
   "cell_type": "markdown",
   "metadata": {},
   "source": [
    "<center>\n",
    "<img src=\"https://github.com/AashitaK/datasets/blob/main/images/NNLinReg.drawio.png?raw=True\" width=\"400\">\n",
    "<p style=\"text-align: center;\"> Neural network representation for linear regression </p> \n",
    "</center>"
   ]
  },
  {
   "cell_type": "markdown",
   "metadata": {},
   "source": [
    "Notes:\n",
    "* Increasing the weight for a variable means it is becoming more impactful in the prediction. \n",
    "* The weights for two variables cannot be compared straightway unless they are in same scale or are normalized to be in the same scale."
   ]
  },
  {
   "cell_type": "markdown",
   "metadata": {},
   "source": [
    "Though linear regression has a simple network architecture, it serves as a good demonstration for the learning process for the neural network. \n",
    "\n",
    "* We define the cost function to quantify the error in prediction, which is effectively a function of weights and bias term. \n",
    "* We use a dataset to learn the optimal weights of the network. We call it the training dataset. \n",
    "* Minimizing the cost function using the training data yields the desired weights. The gradient descent algorithm is used for this learning process.\n",
    "\n"
   ]
  },
  {
   "cell_type": "markdown",
   "metadata": {},
   "source": [
    "## Classification: \n",
    "\n",
    "\n",
    "Machine learning approach to classification task: \n",
    "We are given some labeled data which we use to determine the decision boundary. Then, we use this decision boundary to classify the yet unseen examples into the given categories.\n",
    "\n",
    "<center>\n",
    "<img src=\"https://github.com/AashitaK/datasets/blob/main/images/DecisionBoundary.png?raw=True\" width=\"500\" />\n",
    "</center>\n",
    "\n",
    "For simplicity, let us assume we have only two classes:\n",
    "* the positive class labeled as 1 \n",
    "* the negative class labeled as 0\n",
    "\n",
    "Can we somehow modify the neural network architecture we studied earlier for linear regression to build a binary classifier?\n",
    "\n",
    "<center>\n",
    "<img src=\"https://github.com/AashitaK/datasets/blob/main/images/NNLinReg.drawio.png?raw=True\" width=\"400\">\n",
    "<p style=\"text-align: center;\"> Neural network representation for linear regression </p> \n",
    "</center>\n",
    "\n",
    "Simplest but outdated trick was to use the threshold to get the neuron fired or not.\n",
    "\n",
    "<center>\n",
    "<img src=\"https://cdn-images-1.medium.com/max/2600/1*v88ySSMr7JLaIBjwr4chTw.jpeg\" width=\"500\" />\n",
    "<p style=\"text-align: center;\"> A Perceptron Classifier</p>\n",
    "</center>\n",
    "\n",
    "The bias term let us set a threshold so that if the weighted input sum is greater than 0, then the neuron fires or else it does not. When the neuron fires, we classify the example as belonging to the positive class, otherwise the negative class. \n",
    "\n",
    "The function that was used to determine whether the neuron fires or not is called the activation function. Note that it is the unit step function.\n",
    "\n",
    "\\begin{equation} \\label{eq1}\n",
    "\\begin{split}\n",
    "f(x) & = 1 \\text{ if } w_1*x_1 + w_2*x_2 + \\cdots + w_n*x_n + b \\geq 0\\\\      \n",
    "& = 0 \\text{ otherwise}\n",
    "\\end{split}\n",
    "\\end{equation}"
   ]
  },
  {
   "cell_type": "markdown",
   "metadata": {},
   "source": [
    "***Exercise 1:***\n",
    "\n",
    "Q1: Can you come up with a neural network for the OR gate by trail-and-error?\n",
    "<br/>\n",
    "\n",
    "<img align=\"left\" src=\"https://github.com/AashitaK/datasets/blob/main/images/or.png?raw=True\"/>\n",
    "<img align=\"center\" src=\"https://github.com/AashitaK/datasets/blob/main/images/or-gate.gif?raw=True\" width=\"410\" /> \n",
    "\n",
    "\n",
    "Hint:\n",
    "- Step 1: How many input nodes should we have? Do not forget the bias term.\n",
    "- Step 2: Sketch the neural network and put the variables with names on it, such as $x_1, x_2, b, w_1, w_2$, etc.\n",
    "- Step 3: Come up with some values for the weight and bias that will give the correct prediction for one of the points.\n",
    "- Step 4: Update the weight and bias term, if necessary, to give correct predictions for another point as well as the previous one(s). Repeat for the remaining point(s).\n",
    "<br/>\n",
    "\n",
    "Note: You do not need to find the most optimal weights (and consequently the best decision bounadry line). Any weights that correctly classifies the four points will do!\n",
    "\n",
    "\n",
    "Q2: Can you come up with a neural network for the AND gate?\n",
    "<br/>\n",
    "<img align=\"left\" src=\"https://github.com/AashitaK/datasets/blob/main/images/and.png?raw=True\" />\n",
    "<img align=\"center\" src=\"https://github.com/AashitaK/datasets/blob/main/images/and-gate.gif?raw=True\" width=\"410\" /> \n",
    "<br/>\n",
    "<center>\n",
    "<img align=\"center\" src=\"https://github.com/AashitaK/datasets/blob/main/images/nn1.png?raw=True\" width=\"600\" /> \n",
    "</center>\n",
    "\n",
    "Q3: Would a similar network work for the XOR gate?\n",
    "<br/>\n",
    "<img align=\"left\" src=\"https://github.com/AashitaK/datasets/blob/main/images/xor.png?raw=True\" />\n",
    "<img align=\"center\" src=\"https://github.com/AashitaK/datasets/blob/main/images/xor-gate.gif?raw=True\" width=\"410\" /> "
   ]
  },
  {
   "cell_type": "markdown",
   "metadata": {},
   "source": [
    "<h1> WORK</h1>\n",
    "\n",
    "Q1: Notice that the decision boundary \n",
    "\n",
    "\n",
    "$ y = -1x + 1 $ is a decision boundary that works, we get that \n",
    "\n",
    "$$y + x - 1$$\n",
    "$$(1,1)* (x,y) - 1$$\n",
    "\n",
    "Additionally for the AND gat we have that \n",
    "\n",
    "$$(1,1)*(x,y) -0.5$$\n",
    "\n",
    "\n",
    "Additionally, we have that \n",
    "\n",
    "$$(11)*(x,y) -1.5$$\n",
    "\n",
    "also works, we can do this equivalently\n",
    "\n",
    "https://jamboard.google.com/d/1ZXs0SzeaILSKesLRnApC-jtJQE6A1c3KPYn2EEGg8zw/viewer?f=0 \n",
    "\n",
    "\n",
    "\n",
    "https://jamboard.google.com/d/1vUWM-SQK9WK4xgMD5ziBj12xMRc58HSdQNWgGF08VCI/viewer?f=0\n"
   ]
  },
  {
   "cell_type": "markdown",
   "metadata": {},
   "source": [
    "The single-layer neural network that we used for the OR and AND gates can only give us a linear boundary. It is evident that it is simply not possible for a linear decision boundary to correctly classify all the points in XOR gate. \n",
    "\n",
    "It is pretty common for real-life classification problems to have non-linear decision boundaries. That is why we add hidden layers to the neural networks. The layers other than the input and output layers in the network are called hidden layers. Deep Learning typically means that the network is pretty deep (many hidden layers!).\n",
    "\n",
    "\n",
    "<center>\n",
    "<img src=\"https://www.researchgate.net/profile/Mohamed_Zahran6/publication/303875065/figure/fig4/AS:371118507610123@1465492955561/A-hypothetical-example-of-Multilayer-Perceptron-Network.png\" width=\"450\"/>\n",
    "<p style=\"text-align: center;\"> Multi-layer Perceptron </p>\n",
    "</center>\n",
    "\n",
    "***Exercise 2:***\n",
    "Can you now come up with a neural network for the XOR gate?"
   ]
  },
  {
   "cell_type": "markdown",
   "metadata": {},
   "source": [
    "Hint: XOR gate is equivalent to combining NAND (negative of AND) gate and OR gate with a AND gate. Can you fill in the weights for the XOR gate network? Use [jamboard here](https://jamboard.google.com/d/1yadCM1E_QF37uxcqd8Hhfz_05s1Dyc1rGdExayBQ5CM/edit?usp=sharing\n",
    ") if you'd like.\n",
    "\n",
    "\n",
    "<img align=\"left\" src=\"https://github.com/AashitaK/datasets/blob/main/images/xor-gate-elaborate.png?raw=True\"/>"
   ]
  },
  {
   "cell_type": "markdown",
   "metadata": {},
   "source": [
    "See [solution here](https://drive.google.com/file/d/1k2enUhtaktvZ7OCdSp2o9oWqTiKN62i_/view?usp=sharing) for the XOR gate network."
   ]
  },
  {
   "cell_type": "markdown",
   "metadata": {},
   "source": [
    "The neural networks for classification we have seen so far outputs the class label for each input example.\n",
    "\n",
    "In general, we want to classify the examples farther from the decision boundary with more certainity (or higher probability) than those closer to the decision boundary.  Hence, we want our classifier to give us the probabilities corresponding to each class, instead of the class label itself.\n",
    "\n",
    "\n",
    "We have seen an example of a binary classification algorithm called Logistic Regression classifier, that separates the classes using Linear boundary.\n",
    "<center>\n",
    "<img src=\"https://miro.medium.com/v2/resize:fit:1400/format:webp/1*No261DjSDdX1-jXXVreW0g.png\" width=\"600\"/>\n",
    "<p style=\"text-align: center;\"> Logistic Regression classifier </p>\n",
    "</center>\n",
    "\n",
    "The Logistic regression model is given by,\n",
    "\n",
    "$$Prob(y=1) = sig(w_1*x_1 + w_2*x_2 + \\cdots + w_n*x_n + b) $$ \n",
    "\n",
    "where $sig$ is the sigmoid logistic function \n",
    "\n",
    "$$sig(t) = \\frac{1}{1+e^{-t}}$$\n",
    "\n",
    "<center>\n",
    "<img src=\"https://upload.wikimedia.org/wikipedia/commons/5/53/Sigmoid-function-2.svg\" width=400 />\n",
    "</center>\n",
    "\n",
    "  \n",
    "  \n",
    "The inspiration for our first neural network was the linear regression above. \n",
    "  \n",
    "<center>\n",
    "<img src=\"https://github.com/AashitaK/datasets/blob/main/images/NNLinReg.drawio.png?raw=True\" width=\"400\">\n",
    "<p style=\"text-align: center;\"> Neural network representation for linear regression </p> \n",
    "</center>\n",
    "     \n",
    "Can we also represent the logistic classifier, that also contains the weighted sum $w_1*x_1 + w_2*x_2 + \\cdots + w_n*x_n + b$ in its equation, as a neural network?\n",
    "\n",
    "\n"
   ]
  },
  {
   "cell_type": "markdown",
   "metadata": {},
   "source": [
    "A: Yes, we simply add a layer for the sigmoid sum."
   ]
  },
  {
   "cell_type": "markdown",
   "metadata": {},
   "source": [
    "<center>\n",
    "<img src=\"https://github.com/AashitaK/datasets/blob/main/images/NNLogistic.drawio2.png?raw=True\" width=\"400\">\n",
    "<p style=\"text-align: center;\"> Neural network representation for logistic classifier\n",
    "    </p> \n",
    "</center>"
   ]
  },
  {
   "cell_type": "markdown",
   "metadata": {},
   "source": [
    "It is called activation function. We will come back to other examples. One way to introduce non-linearity was the addition of hidden layer as seen above. The activation functions themselves also add non-linearity. For the logistic regression, we used the sigmoid function at the end. For neural networks, it is common to use activation function for each layer.\n",
    "\n",
    "Let us formalize the neural networks introduced so far. There are two parts to the learning process:\n",
    "1. Forward propagation: used to predict the output by propagating the input in the forward direction\n",
    "2. Backward propagation: used to compute the weight updates for each layer by propagating the cost/error in the backward direction.\n"
   ]
  },
  {
   "cell_type": "markdown",
   "metadata": {},
   "source": [
    "#### Forward propagation\n",
    "\n",
    "The process of propagating the output of each layer in the forward direction to consequently get the final output is called forward propagation. \n",
    "\n",
    "The output of each hidden layer becomes the input of the next layer. The output is also called the activation for a layer.\n",
    "\n",
    "The output/activation for each layer is computed in two steps:\n",
    "* The weighted sum of the inputs, say $z_i$\n",
    "* The activation function is applied to the above sum $z_i$ to produce the activation $a_i$\n",
    "\n",
    "Equations:\n",
    "\n",
    "$$\n",
    "\\begin{align}\n",
    "z_1 &= x*W_1+b_1 \\\\\n",
    "a_1 &= g_1(z_1) \\\\\n",
    "z_2 &= a_1*W_2+b_2 \\\\\n",
    "a_2 &= g_2(z_2) \\\\\n",
    "\\vdots \\\\\n",
    "z_n &= a_{n-1}*W_n+b_n \\\\\n",
    "a_n &= g_n(z_n) \\\\\n",
    "\\end{align}\n",
    "$$\n",
    "\n",
    "and so on till the final output $y_{pred} = a_n$.\n",
    "\n",
    "Convention:  \n",
    "$z_i$: weighted averages of the output from the $(i-1)^{th}$ layer  \n",
    "$a_i$: activation/output of the $i^{th}$ layer  \n",
    "$g_i$: activation layer of the $i^{th}$ layer  \n",
    "$W_i$: Weight matrices connecting two layers   \n",
    "$b_i$: Bias vector for the $i$-th layer  \n",
    "$m$: Number of training examples\n",
    "\n",
    "<center>\n",
    "<img src=\"https://www.researchgate.net/profile/Mohamed_Zahran6/publication/303875065/figure/fig4/AS:371118507610123@1465492955561/A-hypothetical-example-of-Multilayer-Perceptron-Network.png\" width=\"350\" />\n",
    "</center>\n",
    "    \n",
    "#### Backward propagation\n",
    "\n",
    "The process of propagating the cost in the backward direction to compute the gradients for each layer so as to update the weights and bias is called backward propagation. \n",
    "\n",
    "Equations: \n",
    "\n",
    "$$\n",
    "\\begin{align}\n",
    "W_n &:= W_n - \\frac{1}{m}\\alpha*\\frac{\\partial J}{\\partial W_n}\\\\    \n",
    "b_n &:= b_n - \\frac{1}{m}\\alpha*\\frac{\\partial J}{\\partial b_n}\\\\\n",
    " \\vdots \\\\\n",
    "W_1 &:= W_1 - \\frac{1}{m}\\alpha*\\frac{\\partial J}{\\partial W_1}\\\\   \n",
    "b_1 &:= b_1 - \\frac{1}{m}\\alpha*\\frac{\\partial J}{\\partial b_1}\\\\\n",
    "\\end{align}\n",
    "$$\n",
    "\n",
    "Here, $\\alpha$ is the learning rate that is multiplied to the gradients to tune the size of each weight/bias update.\n",
    "\n",
    "The gradients are computed using the chain rule for derivatives, as illustrated below in the exercise example.\n",
    "\n",
    "One pass of each forward and backward propagation is called an iteration. When all the training examples are iterated once, it is called an epoch.  \n",
    "\n",
    "\n",
    "***Exercise 3:*** \n",
    "In the above exercise, we came up with the weights for the neural network for the OR gate by trial-and-error method. Let us derive the **back propagation equations** so that we can find optimal weights for the network starting with random weights.\n",
    "\n",
    "![](https://miro.medium.com/max/1113/0*wOYoifz24Wz_I152.)\n",
    "\n",
    "The forward propagation equations will be:  \n",
    "$ z_1 = w_1 x_1 + w_2 x_2 + b$  \n",
    "$ a_1 = g(z_1) $  \n",
    "$ y_{pred} = a_1 $  \n",
    "\n",
    "\n",
    "Let the activation function be sigmoid \n",
    "\n",
    "$$ g(z) = \\frac{1}{1+e^{-z}} $$\n",
    "\n",
    "Let the cost function be $$ J = \\frac{1}{2} \\sum_{i=1}^4 (y^{(i)} - y_{pred}^{(i)})^2 $$\n",
    "\n",
    "Derive the Back propagation equations by calculating the gradients (partial derivatives):   \n",
    "\n",
    "$$ w_1 := w_1 - \\alpha \\frac{\\partial J}{\\partial w_1} $$  \n",
    "$$ w_2 := w_2 - \\alpha \\frac{\\partial J}{\\partial w_2} $$  \n",
    "$$ b := b - \\alpha \\frac{\\partial J}{\\partial b} $$  \n",
    "\n",
    "Hint: Use the chain rule for derivatives\n",
    "\n",
    "$$ \\frac{d f(y)}{dx} =  \\frac{d f(y)}{dy} \\frac{d y}{dx}$$"
   ]
  },
  {
   "cell_type": "markdown",
   "metadata": {},
   "source": [
    "<img align=\"center\" src=\"https://github.com/AashitaK/datasets/blob/main/images/deepnn.png?raw=True\" width=600 />\n",
    "\n",
    "\n",
    "#### Summary:\n",
    "\n",
    "Let us summarize what we have learned so far.\n",
    "\n",
    "Terminology:\n",
    "* Nodes\n",
    "* Input layer\n",
    "* Hidden layers\n",
    "* Output layer\n",
    "* Weights\n",
    "* Bias\n",
    "* Weighted sum $z_i$\n",
    "* Activation functions $g_i$\n",
    "* Activations $a_i$\n",
    "* Cost function $J$\n",
    "* Forward propagation\n",
    "* Backward propagation\n",
    "* Iterations\n",
    "* Epochs\n",
    "* Learning rate $\\alpha$ "
   ]
  },
  {
   "cell_type": "markdown",
   "metadata": {},
   "source": [
    "#### How to address overfitting?\n",
    "- Reduce the number of features \n",
    "    - Discard some features\n",
    "    - Dimensionality reduction techniques such PCA, LDA, etc.\n",
    "- Simplify the model (by tuning hyperparameters)\n",
    "- Reducing the number of epochs for training the network\n",
    "- Regularization, Dropout, etc.\n",
    "- Adding more training examples, if possible  \n",
    "\n",
    "<center>\n",
    "<img src=\"https://i.stack.imgur.com/rpqa6.jpg\" width=\"500\"/>\n",
    "</center>\n",
    "\n",
    "In a nutshell, \n",
    "* **To reduce overfitting, reduce complexity.**\n",
    "* **To reduce underfitting, increase complexity.**\n",
    "\n",
    "We will learn the above concepts in more detail in the next session."
   ]
  }
 ],
 "metadata": {
  "kernelspec": {
   "display_name": "Python 3 (ipykernel)",
   "language": "python",
   "name": "python3"
  },
  "language_info": {
   "codemirror_mode": {
    "name": "ipython",
    "version": 3
   },
   "file_extension": ".py",
   "mimetype": "text/x-python",
   "name": "python",
   "nbconvert_exporter": "python",
   "pygments_lexer": "ipython3",
   "version": "3.9.13"
  }
 },
 "nbformat": 4,
 "nbformat_minor": 4
}
